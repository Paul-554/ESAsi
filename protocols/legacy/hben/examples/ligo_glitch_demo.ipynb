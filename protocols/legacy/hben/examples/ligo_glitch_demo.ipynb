# LIGO Glitch Anomaly Detection Demo
# Requirements: numpy, pandas, matplotlib, sklearn, hben.py

import numpy as np
import pandas as pd
import matplotlib.pyplot as plt
from sklearn.ensemble import IsolationForest
from hben import HBENNode, HBENDAG

# 1. Load LIGO glitch dataset (replace with your path or use open datasets)
# Example: https://www.gw-openscience.org/
data = pd.read_csv('ligo_glitch_sample.csv')  # columns: time, frequency, snr, label

# 2. Feature selection
features = data[['frequency', 'snr']].values

# 3. Anomaly detection (Isolation Forest)
iso = IsolationForest(contamination=0.05, random_state=42)
data['anomaly_score'] = iso.fit_predict(features)

# 4. Visualize anomalies
plt.figure(figsize=(8,5))
plt.scatter(data['frequency'], data['snr'], c=data['anomaly_score'], cmap='coolwarm', label='Anomaly Score')
plt.xlabel('Frequency (Hz)')
plt.ylabel('SNR')
plt.title('LIGO Glitch Anomaly Detection')
plt.legend()
plt.show()

# 5. HBEN integration: create nodes for high-anomaly events
dag = HBENDAG()
for idx, row in data[data['anomaly_score'] == -1].iterrows():
    node = dag.add_node(
        name=f"glitch_{idx}",
        confidence_percentage=60,  # initial confidence for anomaly
        hierarchical_depth=2,
        domain="scientific"
    )

print(f"Total anomalies detected: {len(data[data['anomaly_score'] == -1])}")
