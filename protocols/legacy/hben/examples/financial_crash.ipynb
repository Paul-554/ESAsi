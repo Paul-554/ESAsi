# 2008 Financial Crisis Anomaly Detection Demo
# Requirements: numpy, pandas, matplotlib, sklearn, hben.py

import numpy as np
import pandas as pd
import matplotlib.pyplot as plt
from sklearn.neighbors import NearestNeighbors
from hben import HBENNode, HBENDAG

# 1. Load stock market data (e.g., MSFT, F, BAC)
# Example: Download from Yahoo Finance or use sample CSV
stocks = pd.read_csv('stocks_2008.csv', parse_dates=['Date'], index_col='Date')

# 2. Calculate daily percent changes
delta = stocks.pct_change().dropna()

# 3. Anomaly scoring using k-Nearest Neighbors
k = 4
nbrs = NearestNeighbors(n_neighbors=k)
nbrs.fit(delta)
distances, _ = nbrs.kneighbors(delta)
anomaly_score = distances.mean(axis=1)

# 4. Visualize anomalies
plt.figure(figsize=(10,6))
plt.plot(delta.index, anomaly_score, label='Anomaly Score')
plt.axvline(pd.Timestamp('2008-09-15'), color='red', linestyle='--', label='Lehman Collapse')
plt.xlabel('Date')
plt.ylabel('Anomaly Score')
plt.title('Anomaly Detection in 2008 Financial Crisis')
plt.legend()
plt.show()

# 5. HBEN integration: flag top anomalies as nodes
dag = HBENDAG()
top_anomalies = delta.index[np.argsort(anomaly_score)[-5:]]
for date in top_anomalies:
    dag.add_node(
        name=f"anomaly_{date.strftime('%Y%m%d')}",
        confidence_percentage=70,
        hierarchical_depth=1,
        domain="financial"
    )

print("Top anomaly dates:", top_anomalies)
